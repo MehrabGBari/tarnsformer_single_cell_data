{
 "cells": [
  {
   "cell_type": "markdown",
   "id": "badd6cab-6596-4b33-9d99-8dd2951a4b43",
   "metadata": {},
   "source": [
    "## Imports"
   ]
  },
  {
   "cell_type": "code",
   "execution_count": null,
   "id": "47630172-1f51-442b-95fc-805a336ac9eb",
   "metadata": {
    "tags": []
   },
   "outputs": [],
   "source": [
    "from geneformer import EmbExtractor\n",
    "import os"
   ]
  },
  {
   "cell_type": "markdown",
   "id": "ef0b995c-26dd-415e-a782-845de488769a",
   "metadata": {},
   "source": [
    "## Path settings\n"
   ]
  },
  {
   "cell_type": "code",
   "execution_count": null,
   "id": "bd4ad861-1992-4196-9efd-edd79aa22412",
   "metadata": {
    "tags": []
   },
   "outputs": [],
   "source": [
    "fine_tuned_model = \"/home/domino/geneformer_workflow/Geneformer/fine_tuned_models/geneformer-6L-30M_CellClassifier_cardiomyopathies_220224\"\n",
    "\n",
    "path_to_input_data = \"/home/domino/geneformer_workflow/input/data/example_input_files/cell_classification/disease_classification/human_dcm_hcm_nf.dataset\"\n",
    "\n",
    "path_to_output_directory = \"/home/domino/geneformer_workflow/results/cell_embeddings\"\n",
    "os.makedirs(path_to_output_directory, exist_ok = True)\n",
    "\n",
    "output_prefix = \"human_dcm_hcm_nf\""
   ]
  },
  {
   "cell_type": "markdown",
   "id": "df06287f-6442-4489-bb7b-59999948783d",
   "metadata": {
    "tags": []
   },
   "source": [
    "## Initiate EmbExtractor and extract embedding from input data\n"
   ]
  },
  {
   "cell_type": "code",
   "execution_count": null,
   "id": "21b639bc-ff3b-4cfb-a049-5ad505a5bb7c",
   "metadata": {
    "tags": []
   },
   "outputs": [],
   "source": [
    "embex = EmbExtractor(model_type=\"CellClassifier\",\n",
    "                     num_classes=3,\n",
    "                     filter_data={\"cell_type\":[\"Cardiomyocyte1\",\"Cardiomyocyte2\",\"Cardiomyocyte3\"]},\n",
    "                     max_ncells=1000,\n",
    "                     emb_layer=0,\n",
    "                     emb_label=[\"disease\",\"cell_type\"],\n",
    "                     labels_to_plot=[\"disease\"],\n",
    "                     forward_batch_size=50,#200,\n",
    "                     nproc=16)\n",
    "\n",
    "\n",
    "# example dataset: https://huggingface.co/datasets/ctheodoris/Genecorpus-30M/tree/main/example_input_files/cell_classification/disease_classification/human_dcm_hcm_nf.dataset\n",
    "# embs = embex.extract_embs(\"../fine_tuned_models/geneformer-6L-30M_CellClassifier_cardiomyopathies_220224\",\n",
    "#                           \"path/to/input_data/\",\n",
    "#                           \"path/to/output_directory/\",\n",
    "#                           \"output_prefix\")\n",
    "embs = embex.extract_embs(model_directory = fine_tuned_model,\n",
    "                          input_data_file = path_to_input_data,\n",
    "                          output_directory = path_to_output_directory,\n",
    "                          output_prefix = output_prefix)"
   ]
  },
  {
   "cell_type": "markdown",
   "id": "b868c30a-54c5-4869-b876-55eadf244cd9",
   "metadata": {},
   "source": [
    "## Plot UMAP of cell embeddings"
   ]
  },
  {
   "cell_type": "code",
   "execution_count": null,
   "id": "4e1ef3dd-9dfc-46ea-8081-7c5e7684a928",
   "metadata": {
    "tags": []
   },
   "outputs": [],
   "source": [
    "\n",
    "# note: scanpy umap necessarily saves figs to figures directory\n",
    "embex.plot_embs(embs = embs, \n",
    "                plot_style = \"umap\",\n",
    "                output_directory = path_to_output_directory,  \n",
    "                output_prefix = \"emb_plot\")"
   ]
  },
  {
   "cell_type": "markdown",
   "id": "8586136d-1147-47cb-9743-c76513bf0288",
   "metadata": {},
   "source": [
    "## Plot heatmap of cell embeddings"
   ]
  },
  {
   "cell_type": "code",
   "execution_count": null,
   "id": "0d8a154d-f148-4adc-9a27-27f27afe2d97",
   "metadata": {
    "tags": []
   },
   "outputs": [],
   "source": [
    "embex.plot_embs(embs = embs, \n",
    "                plot_style = \"heatmap\",\n",
    "                output_directory = path_to_output_directory,\n",
    "                output_prefix = \"emb_plot\")"
   ]
  },
  {
   "cell_type": "code",
   "execution_count": null,
   "id": "0f93c50a-ca9a-44c9-b67b-8d11487add5c",
   "metadata": {},
   "outputs": [],
   "source": []
  }
 ],
 "metadata": {
  "kernelspec": {
   "display_name": "Python 3 (ipykernel)",
   "language": "python",
   "name": "python3"
  },
  "language_info": {
   "codemirror_mode": {
    "name": "ipython",
    "version": 3
   },
   "file_extension": ".py",
   "mimetype": "text/x-python",
   "name": "python",
   "nbconvert_exporter": "python",
   "pygments_lexer": "ipython3",
   "version": "3.10.6"
  }
 },
 "nbformat": 4,
 "nbformat_minor": 5
}
